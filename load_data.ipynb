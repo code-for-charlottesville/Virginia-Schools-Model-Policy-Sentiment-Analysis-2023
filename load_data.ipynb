{
 "cells": [
  {
   "cell_type": "code",
   "execution_count": 1,
   "metadata": {},
   "outputs": [],
   "source": [
    "import pandas as pd"
   ]
  },
  {
   "attachments": {},
   "cell_type": "markdown",
   "metadata": {},
   "source": [
    "## Load Clean Comments Data from S3\n"
   ]
  },
  {
   "attachments": {},
   "cell_type": "markdown",
   "metadata": {},
   "source": [
    "- Create a new Python environment\n",
    "- Install from requirements.txt\n",
    "- glhf\n"
   ]
  },
  {
   "attachments": {},
   "cell_type": "markdown",
   "metadata": {},
   "source": [
    "[Data Model](https://dbdiagram.io/d/64594dd7dca9fb07c4b7c4db)\n"
   ]
  },
  {
   "cell_type": "code",
   "execution_count": 2,
   "metadata": {},
   "outputs": [],
   "source": [
    "PATH_PREFIX = \"data/model\"\n",
    "PATH_PREFIX_REMOTE = \"s3://aclu-model-policy-comments\""
   ]
  },
  {
   "cell_type": "code",
   "execution_count": 3,
   "metadata": {},
   "outputs": [],
   "source": [
    "def fetch_table(table_name, fetch_remote=True):\n",
    "    return pd.read_csv(\n",
    "        f\"{PATH_PREFIX_REMOTE if fetch_remote else PATH_PREFIX}/{table_name}.csv\",\n",
    "        lineterminator=\"\\n\",\n",
    "    )"
   ]
  },
  {
   "cell_type": "code",
   "execution_count": 4,
   "metadata": {},
   "outputs": [
    {
     "data": {
      "text/html": [
       "<div>\n",
       "<style scoped>\n",
       "    .dataframe tbody tr th:only-of-type {\n",
       "        vertical-align: middle;\n",
       "    }\n",
       "\n",
       "    .dataframe tbody tr th {\n",
       "        vertical-align: top;\n",
       "    }\n",
       "\n",
       "    .dataframe thead th {\n",
       "        text-align: right;\n",
       "    }\n",
       "</style>\n",
       "<table border=\"1\" class=\"dataframe\">\n",
       "  <thead>\n",
       "    <tr style=\"text-align: right;\">\n",
       "      <th></th>\n",
       "      <th>id</th>\n",
       "      <th>url</th>\n",
       "      <th>label</th>\n",
       "      <th>title</th>\n",
       "      <th>content</th>\n",
       "      <th>html_raw</th>\n",
       "      <th>created_at</th>\n",
       "      <th>author</th>\n",
       "      <th>full_text</th>\n",
       "    </tr>\n",
       "  </thead>\n",
       "  <tbody>\n",
       "    <tr>\n",
       "      <th>0</th>\n",
       "      <td>203047</td>\n",
       "      <td>https://townhall.virginia.gov/L/viewcomments.c...</td>\n",
       "      <td>not_applicable</td>\n",
       "      <td>Transgender</td>\n",
       "      <td>I am strongly opposed to any law that would ...</td>\n",
       "      <td>&lt;!DOCTYPE html&gt;  &lt;p&gt;I am strongly opposed to ...</td>\n",
       "      <td>2022-10-27 03:07:00</td>\n",
       "      <td>Frank McCullough</td>\n",
       "      <td>Transgender   I am strongly opposed to any law...</td>\n",
       "    </tr>\n",
       "    <tr>\n",
       "      <th>1</th>\n",
       "      <td>203046</td>\n",
       "      <td>https://townhall.virginia.gov/L/viewcomments.c...</td>\n",
       "      <td>not_applicable</td>\n",
       "      <td>OPPOSE - this will cause actual, real, death o...</td>\n",
       "      <td>These kids are valid in their identities, ta...</td>\n",
       "      <td>&lt;!DOCTYPE html&gt;  &lt;p&gt;These kids are valid in t...</td>\n",
       "      <td>2022-10-27 01:55:00</td>\n",
       "      <td>an APS student</td>\n",
       "      <td>OPPOSE - this will cause actual, real, death o...</td>\n",
       "    </tr>\n",
       "    <tr>\n",
       "      <th>2</th>\n",
       "      <td>203045</td>\n",
       "      <td>https://townhall.virginia.gov/L/viewcomments.c...</td>\n",
       "      <td>not_applicable</td>\n",
       "      <td>Consequences of Youngkin’s Policy Dire, Immediate</td>\n",
       "      <td>Gov. Youngkin's model policies regarding tra...</td>\n",
       "      <td>&lt;!DOCTYPE html&gt;  &lt;p&gt;Gov. Youngkin's model pol...</td>\n",
       "      <td>2022-10-27 00:06:00</td>\n",
       "      <td>Martha Molinaro, George Mason University</td>\n",
       "      <td>Consequences of Youngkin’s Policy Dire, Immedi...</td>\n",
       "    </tr>\n",
       "    <tr>\n",
       "      <th>3</th>\n",
       "      <td>203044</td>\n",
       "      <td>https://townhall.virginia.gov/L/viewcomments.c...</td>\n",
       "      <td>not_applicable</td>\n",
       "      <td>Strongly Oppose</td>\n",
       "      <td>I strongly oppose the non-evidence based pol...</td>\n",
       "      <td>&lt;!DOCTYPE html&gt;  &lt;p&gt;I &lt;strong&gt;strongly oppose...</td>\n",
       "      <td>2022-10-27 00:04:00</td>\n",
       "      <td>Anonymous (203044)</td>\n",
       "      <td>Strongly Oppose   I strongly oppose the non-ev...</td>\n",
       "    </tr>\n",
       "    <tr>\n",
       "      <th>4</th>\n",
       "      <td>203041</td>\n",
       "      <td>https://townhall.virginia.gov/L/viewcomments.c...</td>\n",
       "      <td>not_applicable</td>\n",
       "      <td>Opposed</td>\n",
       "      <td>\"Parents\" put a private equity sellout in ch...</td>\n",
       "      <td>&lt;!DOCTYPE html&gt;  &lt;p&gt;\"Parents\" put a private e...</td>\n",
       "      <td>2022-10-27 00:02:00</td>\n",
       "      <td>Anonymous (203041)</td>\n",
       "      <td>Opposed   \"Parents\" put a private equity sello...</td>\n",
       "    </tr>\n",
       "  </tbody>\n",
       "</table>\n",
       "</div>"
      ],
      "text/plain": [
       "       id                                                url           label  \\\n",
       "0  203047  https://townhall.virginia.gov/L/viewcomments.c...  not_applicable   \n",
       "1  203046  https://townhall.virginia.gov/L/viewcomments.c...  not_applicable   \n",
       "2  203045  https://townhall.virginia.gov/L/viewcomments.c...  not_applicable   \n",
       "3  203044  https://townhall.virginia.gov/L/viewcomments.c...  not_applicable   \n",
       "4  203041  https://townhall.virginia.gov/L/viewcomments.c...  not_applicable   \n",
       "\n",
       "                                               title  \\\n",
       "0                                        Transgender   \n",
       "1  OPPOSE - this will cause actual, real, death o...   \n",
       "2  Consequences of Youngkin’s Policy Dire, Immediate   \n",
       "3                                    Strongly Oppose   \n",
       "4                                            Opposed   \n",
       "\n",
       "                                             content  \\\n",
       "0    I am strongly opposed to any law that would ...   \n",
       "1    These kids are valid in their identities, ta...   \n",
       "2    Gov. Youngkin's model policies regarding tra...   \n",
       "3    I strongly oppose the non-evidence based pol...   \n",
       "4    \"Parents\" put a private equity sellout in ch...   \n",
       "\n",
       "                                            html_raw           created_at  \\\n",
       "0   <!DOCTYPE html>  <p>I am strongly opposed to ...  2022-10-27 03:07:00   \n",
       "1   <!DOCTYPE html>  <p>These kids are valid in t...  2022-10-27 01:55:00   \n",
       "2   <!DOCTYPE html>  <p>Gov. Youngkin's model pol...  2022-10-27 00:06:00   \n",
       "3   <!DOCTYPE html>  <p>I <strong>strongly oppose...  2022-10-27 00:04:00   \n",
       "4   <!DOCTYPE html>  <p>\"Parents\" put a private e...  2022-10-27 00:02:00   \n",
       "\n",
       "                                     author  \\\n",
       "0                          Frank McCullough   \n",
       "1                            an APS student   \n",
       "2  Martha Molinaro, George Mason University   \n",
       "3                        Anonymous (203044)   \n",
       "4                        Anonymous (203041)   \n",
       "\n",
       "                                           full_text  \n",
       "0  Transgender   I am strongly opposed to any law...  \n",
       "1  OPPOSE - this will cause actual, real, death o...  \n",
       "2  Consequences of Youngkin’s Policy Dire, Immedi...  \n",
       "3  Strongly Oppose   I strongly oppose the non-ev...  \n",
       "4  Opposed   \"Parents\" put a private equity sello...  "
      ]
     },
     "execution_count": 4,
     "metadata": {},
     "output_type": "execute_result"
    }
   ],
   "source": [
    "comments = fetch_table(\"comments\")\n",
    "classifications = fetch_table(\"classifications\")\n",
    "dupe_groups = fetch_table(\"dupe_groups\")\n",
    "dupe_group_comments = fetch_table(\"dupe_group_comments\")\n",
    "\n",
    "comments.head()"
   ]
  },
  {
   "cell_type": "code",
   "execution_count": null,
   "metadata": {},
   "outputs": [],
   "source": []
  }
 ],
 "metadata": {
  "kernelspec": {
   "display_name": ".venv",
   "language": "python",
   "name": "python3"
  },
  "language_info": {
   "codemirror_mode": {
    "name": "ipython",
    "version": 3
   },
   "file_extension": ".py",
   "mimetype": "text/x-python",
   "name": "python",
   "nbconvert_exporter": "python",
   "pygments_lexer": "ipython3",
   "version": "3.10.10"
  },
  "orig_nbformat": 4
 },
 "nbformat": 4,
 "nbformat_minor": 2
}
